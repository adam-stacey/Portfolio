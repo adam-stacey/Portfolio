{
 "cells": [
  {
   "cell_type": "code",
   "execution_count": 1,
   "id": "64d19e6e-c98b-4ec2-9f8d-04c02c3197b0",
   "metadata": {
    "tags": []
   },
   "outputs": [],
   "source": [
    "# Clean dataset, but keep Dead/Dormant Individuals in the population\n",
    "import numpy as np\n",
    "import pandas as pd\n",
    "import seaborn as sns\n",
    "Trill = pd.read_excel('Trillium.xlsx')"
   ]
  },
  {
   "cell_type": "code",
   "execution_count": 2,
   "id": "33cf072e-9745-4772-99b6-7c8429ab5d72",
   "metadata": {
    "tags": []
   },
   "outputs": [],
   "source": [
    "# Remove unecessary columns\n",
    "# Next, remove some columns that will not be used for the project\n",
    "Trill = Trill.drop(columns = ['Site','Plot','subID','Tag','ID','Dormancy',\n",
    "                              'Species','Species2'])"
   ]
  },
  {
   "cell_type": "code",
   "execution_count": 3,
   "id": "55560f6c-10ef-4501-9996-c6bc5c2876e3",
   "metadata": {
    "tags": []
   },
   "outputs": [],
   "source": [
    "# Replace 'na' with NAN\n",
    "Trill.replace('na',np.nan,inplace = True)\n",
    "Trill = Trill[Trill.Length05 != 'chewed'] \n",
    "\n",
    "# Change datatypes as needed\n",
    "dataTypes = {'Habitat': 'category','Trans0304':'category',\n",
    "             'Trans0405':'category','Length05':'float64'}\n",
    "Trill = Trill.astype(dataTypes)"
   ]
  },
  {
   "cell_type": "code",
   "execution_count": 4,
   "id": "24070a4c-7c2a-4f77-8843-ccef06c10927",
   "metadata": {
    "tags": []
   },
   "outputs": [],
   "source": [
    "# Next, perform additional cleaning on data set by filling in missing values,\n",
    "# and correcting certain labels\n",
    "\n",
    "numericData = ['Length','Width','LeafArea']\n",
    "years = ['03','04','05']\n",
    "stages = ['flowering','nonflowering','oneleaf']\n",
    "\n",
    "# correct any missing stage data that can be determined necessarily\n",
    "for i in range(1,len(years)):\n",
    "    stageName = 'Stage' + years[i]\n",
    "    prevStage = 'Stage' + years[i - 1]\n",
    "    transStage = 'Trans' + years[i - 1] + years[i]\n",
    "    Trill.loc[(Trill[stageName] == 'oneleaf') & (Trill[prevStage].isnull() == True),\n",
    "              prevStage] = 'seedling'\n",
    "    Trill.loc[(Trill[stageName] == 'oneleaf') & (Trill[prevStage] == 'seedling'),\n",
    "              transStage] = 'progression'\n",
    "    Trill.loc[Trill[stageName] == 'seedling',prevStage] = 'not emerged'\n",
    "\n",
    "# fill in seedling data with unit measurements\n",
    "# fill in other missing data with mean measurements\n",
    "for i in range(0,len(years)):\n",
    "    for j in range(0,len(numericData)):\n",
    "        colName = numericData[j] + years[i]\n",
    "        stageName = 'Stage' + years[i]\n",
    "        Trill.loc[Trill[stageName] == 'seedling',colName] = 1.0\n",
    "        Trill.loc[Trill[stageName] == 'not emerged',colName] = 0.0\n",
    "        Trill.loc[Trill[stageName] == 'eaten',colName] = 0.0\n",
    "        for z in range(0,len(stages)):\n",
    "            stageType = stages[z]\n",
    "            Trill.loc[(Trill[stageName]== stageType)&(Trill[colName].isnull() == True),\n",
    "                      colName] = Trill[colName].mean()\n",
    "\n",
    "    \n",
    "# give dead/dormant individuals 0 size\n",
    "for i in range(1,len(years)):\n",
    "    for j in range(0,len(numericData)):\n",
    "        colName = numericData[j] + years[i]\n",
    "        prevName = numericData[j] + years[i - 1]\n",
    "        \n",
    "\n",
    "# create a new variable for eaten plants, change stage of eaten plants to \n",
    "# not emerged\n",
    "for i in range(0,len(years)):\n",
    "    stageName = 'Stage' + years[i]\n",
    "    eatenYear = 'isEaten' + years[i]\n",
    "    Trill.loc[Trill[stageName] == 'eaten',eatenYear] = 1\n",
    "    Trill.loc[Trill[stageName] != 'eaten',eatenYear] = 0\n",
    "    Trill.loc[Trill[eatenYear] == 1, stageName] = 'not emerged'\n",
    "    \n",
    "# Correct final datatypes\n",
    "moreDataTypes = {'Stage03':'category','Stage04':'category',\n",
    "                 'Stage05':'category'}\n",
    "Trill = Trill.astype(moreDataTypes)\n",
    "    \n",
    "    "
   ]
  },
  {
   "cell_type": "code",
   "execution_count": 5,
   "id": "fbf10329-0921-4066-a88c-e5814d3a9600",
   "metadata": {
    "tags": []
   },
   "outputs": [
    {
     "name": "stdout",
     "output_type": "stream",
     "text": [
      "Shape of data frame:  (1401, 18)\n"
     ]
    },
    {
     "data": {
      "text/plain": [
       "Habitat       category\n",
       "Stage03       category\n",
       "Stage04       category\n",
       "Stage05       category\n",
       "Trans0304     category\n",
       "Trans0405     category\n",
       "Length03       float64\n",
       "Width03        float64\n",
       "LeafArea03     float64\n",
       "Length04       float64\n",
       "Width04        float64\n",
       "LeafArea04     float64\n",
       "Length05       float64\n",
       "Width05        float64\n",
       "LeafArea05     float64\n",
       "isEaten03      float64\n",
       "isEaten04      float64\n",
       "isEaten05      float64\n",
       "dtype: object"
      ]
     },
     "execution_count": 5,
     "metadata": {},
     "output_type": "execute_result"
    }
   ],
   "source": [
    "# Let's check size and datatypes of our data\n",
    "print(\"Shape of data frame: \",Trill.shape)\n",
    "Trill.dtypes"
   ]
  },
  {
   "cell_type": "code",
   "execution_count": 6,
   "id": "b32d08bf-ffa4-4dd1-9c74-1c015f2ca679",
   "metadata": {
    "tags": []
   },
   "outputs": [
    {
     "name": "stdout",
     "output_type": "stream",
     "text": [
      "Train dataframe: (1152, 7)\n",
      "Test dataframe:  (939, 7)\n",
      "Validation dataframe:  (403, 7)\n"
     ]
    }
   ],
   "source": [
    "# next build training, validation, and test sets\n",
    "# The split between training and test data will be made in time\n",
    "# 03 data will be used to predcict 04 stage (training)\n",
    "# 04 data will be used to predict 05 stage\n",
    "Train = Trill[['Habitat','Stage03','Stage04','Trans0304',\n",
    "               'Length03','Width03','LeafArea03']].copy()\n",
    "\n",
    "Test = Trill[['Habitat','Stage04','Stage05','Trans0405',\n",
    "               'Length04','Width04','LeafArea04']].copy()\n",
    "\n",
    "# remove missing data that cannot be filled in\n",
    "Train = Train.dropna(subset = ['Length03','Width03','LeafArea03','Stage03',\n",
    "                               'Stage04'])\n",
    "\n",
    "Test = Test.dropna(subset = ['Length04','Width04','LeafArea04',\n",
    "                                         'Stage04','Stage05'])\n",
    "\n",
    "\n",
    "# Now, split test data into 2 separate dataframes: validation and test data\n",
    "# We will have the validation data be 30% of the test set\n",
    "from sklearn.model_selection import train_test_split\n",
    "Test, Validation = train_test_split(Test, test_size=0.3)\n",
    "\n",
    "# Next, let's check the sizes of each dataframe\n",
    "print(\"Train dataframe:\", Train.shape)\n",
    "print(\"Test dataframe: \", Test.shape)\n",
    "print(\"Validation dataframe: \",Validation.shape)"
   ]
  },
  {
   "cell_type": "code",
   "execution_count": 7,
   "id": "1b9a77d1-eb34-4ec8-8628-a2728b44bb47",
   "metadata": {
    "tags": []
   },
   "outputs": [],
   "source": [
    "# Finally, write the data to csv's to be used later\n",
    "Train.to_csv('Train.csv',index = False)\n",
    "Test.to_csv('Test.csv',index = False)\n",
    "Validation.to_csv('Validation.csv',index = False)"
   ]
  }
 ],
 "metadata": {
  "kernelspec": {
   "display_name": "Python 3 (ipykernel)",
   "language": "python",
   "name": "python3"
  },
  "language_info": {
   "codemirror_mode": {
    "name": "ipython",
    "version": 3
   },
   "file_extension": ".py",
   "mimetype": "text/x-python",
   "name": "python",
   "nbconvert_exporter": "python",
   "pygments_lexer": "ipython3",
   "version": "3.11.5"
  }
 },
 "nbformat": 4,
 "nbformat_minor": 5
}

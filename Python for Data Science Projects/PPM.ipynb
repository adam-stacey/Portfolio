{
 "cells": [
  {
   "cell_type": "code",
   "execution_count": 1,
   "id": "cffca102-5c64-4edc-857c-ac3227db79d6",
   "metadata": {},
   "outputs": [],
   "source": [
    "## In this notebook, we will use a Population Project Matrix (PPM)\n",
    "# to classification model into life stages in the coming year\n",
    "# using this years' size data"
   ]
  },
  {
   "cell_type": "code",
   "execution_count": 2,
   "id": "f154864b-5ec8-4cb9-b8b5-892a3ca5577e",
   "metadata": {
    "tags": []
   },
   "outputs": [],
   "source": [
    "# Begin by importing libraries and data\n",
    "import numpy as np\n",
    "import pandas as pd\n",
    "import seaborn as sns\n",
    "import matplotlib.pyplot as plt\n",
    "train = pd.read_csv('Train.csv')\n",
    "val = pd.read_csv('Validation.csv')"
   ]
  },
  {
   "cell_type": "code",
   "execution_count": 3,
   "id": "7ab20e68-f27a-4afd-a1de-6b2d4c4311b8",
   "metadata": {
    "tags": []
   },
   "outputs": [],
   "source": [
    "# Let's begin by initializing the matrix A to be used in the PPM\n",
    "# It will be a 5 x 5 matrix, and the default entry will be zero\n",
    "# We will initialize it as a 5 x 5 matrix of zeros, and overwrite the necessary\n",
    "# entries\n",
    "A = np.zeros((5,5))"
   ]
  },
  {
   "cell_type": "code",
   "execution_count": 4,
   "id": "5de66536-70e3-4ea4-9dca-7f0573bf98c1",
   "metadata": {},
   "outputs": [],
   "source": [
    "# To begin, approximate the fecunity parameter\n",
    "# This parameter will be the number of seedlings in 2004 over the number of\n",
    "# flowering individuals in 2004\n",
    "flowering03 = train.Stage03.value_counts()['flowering']\n",
    "seedling04 = train.Stage04.value_counts()['seedling']\n",
    "A[0,4] = seedling04/flowering03"
   ]
  },
  {
   "cell_type": "code",
   "execution_count": 5,
   "id": "1dad775e-9a1f-414c-8341-5f861e25a108",
   "metadata": {
    "tags": []
   },
   "outputs": [
    {
     "data": {
      "text/plain": [
       "Stage05\n",
       "flowering        1\n",
       "nonflowering    10\n",
       "not emerged     35\n",
       "oneleaf          4\n",
       "seedling        29\n",
       "dtype: int64"
      ]
     },
     "execution_count": 5,
     "metadata": {},
     "output_type": "execute_result"
    }
   ],
   "source": [
    "notEmerged = val[val.Stage04 == 'not emerged']\n",
    "notEmerged.groupby(\"Stage05\").apply(len)\n"
   ]
  },
  {
   "cell_type": "code",
   "execution_count": 6,
   "id": "86f9a09b-f497-47f7-b3b9-0d5e2104350f",
   "metadata": {
    "tags": []
   },
   "outputs": [
    {
     "name": "stdout",
     "output_type": "stream",
     "text": [
      "[[0.         0.         0.2        0.         0.86666667]\n",
      " [0.63716814 0.41666667 0.2        0.04221252 0.        ]\n",
      " [0.36283186 0.1025641  0.2        0.11644833 0.13333333]\n",
      " [0.         0.48076923 0.2        0.73944687 0.23809524]\n",
      " [0.         0.         0.2        0.10189229 0.62857143]]\n"
     ]
    }
   ],
   "source": [
    "# Next, begin accounting for transition probabilities\n",
    "\n",
    "# first, we compute the probabilities of transition for seedlings\n",
    "seedling = train[train.Stage03 == 'seedling']\n",
    "\n",
    "p_sj = seedling.Trans0304.value_counts()['progression']/len(seedling)\n",
    "p_sb = (seedling.Trans0304.value_counts()['dead'] + \\\n",
    "        seedling.Trans0304.value_counts()['enter dormancy'])/len(seedling)\n",
    "A[1,0] = p_sj\n",
    "A[2,0] = p_sb\n",
    "\n",
    "del seedling\n",
    "\n",
    "# transition probabilities for juveniles\n",
    "oneleaf = train[train.Stage03 == 'oneleaf']\n",
    "\n",
    "p_jj = oneleaf.Trans0304.value_counts()['stasis']/len(oneleaf)\n",
    "p_jn = oneleaf.Trans0304.value_counts()['progression']/len(oneleaf)\n",
    "p_jb = 1 - p_jj - p_jn\n",
    "\n",
    "A[1,1] = p_jj\n",
    "A[2,1] = p_jb\n",
    "A[3,1] = p_jn\n",
    "\n",
    "del oneleaf\n",
    "\n",
    "# We do not have good data regarding transitions for not emerged plants in 2003\n",
    "# Assume equal probability of transition into each stage\n",
    "A[0:5,2] = 0.2\n",
    "# or use A[1:4,2] = 0.0 and A[0,2] = 1.0 -> assume all non emerged plants will be\n",
    "# seedlings in the future\n",
    "\n",
    "# probabilities for nonflowering individuals\n",
    "nonflowering = train[train.Stage03 == 'nonflowering']\n",
    "\n",
    "p_nj = nonflowering.Trans0304.value_counts()['retrogression']/len(nonflowering)\n",
    "p_nn = nonflowering.Trans0304.value_counts()['stasis']/len(nonflowering)\n",
    "p_nr = nonflowering.Trans0304.value_counts()['progression']/len(nonflowering)\n",
    "p_nb = 1.0 - p_nj - p_nn - p_nr\n",
    "\n",
    "A[1,3] = p_nj\n",
    "A[2,3] = p_nb\n",
    "A[3,3] = p_nn\n",
    "A[4,3] = p_nr\n",
    "\n",
    "del nonflowering\n",
    "\n",
    "# finally, compute probabilities for flowering individuals\n",
    "flowering = train[train.Stage03 == 'flowering']\n",
    "\n",
    "p_rn = flowering.Trans0304.value_counts()['retrogression']/len(flowering)\n",
    "p_rr = flowering.Trans0304.value_counts()['statis']/len(flowering)\n",
    "p_rb = 1.0 - p_rn - p_rr\n",
    "\n",
    "A[2,4] = p_rb\n",
    "A[3,4] = p_rn\n",
    "A[4,4] = p_rr\n",
    "\n",
    "del flowering\n",
    "\n",
    "print(A)"
   ]
  },
  {
   "cell_type": "code",
   "execution_count": 7,
   "id": "320d5012-6006-41ab-8d18-da8b971ba020",
   "metadata": {},
   "outputs": [
    {
     "name": "stdout",
     "output_type": "stream",
     "text": [
      "Training error rate:  0.07246376811594203\n"
     ]
    }
   ],
   "source": [
    "# Now, let's see how the matrix predicts the population stage in 2004. This is the\n",
    "# training error\n",
    "\n",
    "# first, we obtain stage counts\n",
    "stageList = ['seedling','oneleaf','not emerged',\n",
    "             'nonflowering','flowering']\n",
    "N03 = np.zeros(5)\n",
    "N04 = np.zeros(5)\n",
    "for i in range(0,5):\n",
    "    stage = stageList[i]\n",
    "    N03[i] = train.Stage03.value_counts()[stage]\n",
    "    N04[i] = train.Stage04.value_counts()[stage]\n",
    "\n",
    "# use PPM to predict 2004 stage\n",
    "N04_pred = A.dot(N03)\n",
    "\n",
    "# round prediction to integer values\n",
    "N04_pred = N04_pred.round(decimals = 0)\n",
    "\n",
    "error = np.absolute(N04 - N04_pred)\n",
    "\n",
    "# measure percentage of predicted population that is incorrect\n",
    "error_rate = sum(error)/sum(N04_pred)\n",
    "print('Training error rate: ',error_rate)"
   ]
  },
  {
   "cell_type": "code",
   "execution_count": 8,
   "id": "0895c3a7-262f-4957-b608-8858b85944de",
   "metadata": {
    "tags": []
   },
   "outputs": [
    {
     "name": "stdout",
     "output_type": "stream",
     "text": [
      "Validation error rate:  0.2431818181818182\n"
     ]
    }
   ],
   "source": [
    "# This is a good training error rate. Let's see how it performs\n",
    "# on the validation set\n",
    "stageList = ['seedling','oneleaf','not emerged',\n",
    "             'nonflowering','flowering']\n",
    "N04 = np.zeros(5)\n",
    "N05 = np.zeros(5)\n",
    "for i in range(0,5):\n",
    "    stage = stageList[i]\n",
    "    N04[i] = val.Stage04.value_counts()[stage]\n",
    "    N05[i] = val.Stage05.value_counts()[stage]\n",
    "\n",
    "# use PPM to predict 2005 stage\n",
    "N05_pred = A.dot(N04)\n",
    "\n",
    "# round prediction to integer values\n",
    "N05_pred = N05_pred.round(decimals = 0)\n",
    "\n",
    "error = np.absolute(N05 - N05_pred)\n",
    "\n",
    "# measure percentage of predicted population that is incorrect\n",
    "error_rate = sum(error)/sum(N05_pred)\n",
    "print('Validation error rate: ',error_rate)"
   ]
  },
  {
   "cell_type": "code",
   "execution_count": 10,
   "id": "c1a53eba-9c08-43e3-879e-9ff0cd955e3c",
   "metadata": {
    "tags": []
   },
   "outputs": [
    {
     "data": {
      "image/png": "[encoded data removed]",
      "text/plain": [
       "<Figure size 500x500 with 1 Axes>"
      ]
     },
     "metadata": {},
     "output_type": "display_data"
    }
   ],
   "source": [
    "# Let's visualize what the predicted population looks like compared\n",
    "# to the actual population\n",
    "\n",
    "# create plot\n",
    "fig, ax = plt.subplots(figsize=(5, 5))\n",
    "bar_width = 0.35\n",
    "X = np.arange(5)\n",
    "\n",
    "p1 = plt.bar(X, N05, bar_width, color='r',\n",
    "    label='True')\n",
    "\n",
    "# The bar of second plot starts where the first bar ends\n",
    "p2 = plt.bar(X + bar_width, N05_pred, bar_width,\n",
    "    color='b', label='Predicted')\n",
    "\n",
    "plt.xlabel('Plant Stage in 2005')\n",
    "plt.ylabel('Number of Individuals')\n",
    "plt.title('True vs PPM-Predicted\\nValidation Population Distribution in 2005')\n",
    "plt.xticks(X + (bar_width/2) , (\"S\", \"J\",\"N.E.\", \"N\", \"F\"))\n",
    "plt.legend()\n",
    "\n",
    "plt.tight_layout()\n",
    "plt.savefig('ppmValidationPerformance.png', bbox_inches='tight')\n",
    "plt.show()"
   ]
  },
  {
   "cell_type": "code",
   "execution_count": null,
   "id": "f9286047-695e-4303-9861-5a6b8b81dfae",
   "metadata": {},
   "outputs": [],
   "source": []
  }
 ],
 "metadata": {
  "kernelspec": {
   "display_name": "Python 3 (ipykernel)",
   "language": "python",
   "name": "python3"
  },
  "language_info": {
   "codemirror_mode": {
    "name": "ipython",
    "version": 3
   },
   "file_extension": ".py",
   "mimetype": "text/x-python",
   "name": "python",
   "nbconvert_exporter": "python",
   "pygments_lexer": "ipython3",
   "version": "3.11.5"
  }
 },
 "nbformat": 4,
 "nbformat_minor": 5
}
